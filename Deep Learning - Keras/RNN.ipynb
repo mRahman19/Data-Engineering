{
 "cells": [
  {
   "cell_type": "markdown",
   "metadata": {},
   "source": [
    "# Part - 1 - Data Prepocessing\n",
    "\n",
    "# Import Librabies"
   ]
  },
  {
   "cell_type": "code",
   "execution_count": 7,
   "metadata": {},
   "outputs": [],
   "source": [
    "import numpy as np\n",
    "import pandas as pd\n",
    "import matplotlib.pyplot as plt\n",
    "import seaborn as sns"
   ]
  },
  {
   "cell_type": "markdown",
   "metadata": {},
   "source": [
    "# Import training data set"
   ]
  },
  {
   "cell_type": "code",
   "execution_count": 101,
   "metadata": {},
   "outputs": [],
   "source": [
    "df = pd.read_csv('BARC.L.csv')"
   ]
  },
  {
   "cell_type": "code",
   "execution_count": 102,
   "metadata": {},
   "outputs": [],
   "source": [
    "df.dropna(inplace=True)"
   ]
  },
  {
   "cell_type": "code",
   "execution_count": 176,
   "metadata": {},
   "outputs": [
    {
     "data": {
      "text/html": [
       "<div>\n",
       "<style scoped>\n",
       "    .dataframe tbody tr th:only-of-type {\n",
       "        vertical-align: middle;\n",
       "    }\n",
       "\n",
       "    .dataframe tbody tr th {\n",
       "        vertical-align: top;\n",
       "    }\n",
       "\n",
       "    .dataframe thead th {\n",
       "        text-align: right;\n",
       "    }\n",
       "</style>\n",
       "<table border=\"1\" class=\"dataframe\">\n",
       "  <thead>\n",
       "    <tr style=\"text-align: right;\">\n",
       "      <th></th>\n",
       "      <th>Date</th>\n",
       "      <th>Open</th>\n",
       "      <th>High</th>\n",
       "      <th>Low</th>\n",
       "      <th>Close</th>\n",
       "      <th>Adj Close</th>\n",
       "      <th>Volume</th>\n",
       "    </tr>\n",
       "  </thead>\n",
       "  <tbody>\n",
       "    <tr>\n",
       "      <th>0</th>\n",
       "      <td>2009-08-03</td>\n",
       "      <td>276.061005</td>\n",
       "      <td>310.654999</td>\n",
       "      <td>273.890015</td>\n",
       "      <td>297.954010</td>\n",
       "      <td>241.570679</td>\n",
       "      <td>139239547.0</td>\n",
       "    </tr>\n",
       "    <tr>\n",
       "      <th>1</th>\n",
       "      <td>2009-08-04</td>\n",
       "      <td>300.263000</td>\n",
       "      <td>306.683014</td>\n",
       "      <td>297.815002</td>\n",
       "      <td>303.450012</td>\n",
       "      <td>246.026733</td>\n",
       "      <td>0.0</td>\n",
       "    </tr>\n",
       "    <tr>\n",
       "      <th>2</th>\n",
       "      <td>2009-08-05</td>\n",
       "      <td>303.911987</td>\n",
       "      <td>320.954987</td>\n",
       "      <td>303.080994</td>\n",
       "      <td>310.839996</td>\n",
       "      <td>252.018234</td>\n",
       "      <td>70633149.0</td>\n",
       "    </tr>\n",
       "    <tr>\n",
       "      <th>3</th>\n",
       "      <td>2009-08-06</td>\n",
       "      <td>316.937012</td>\n",
       "      <td>335.041992</td>\n",
       "      <td>315.828003</td>\n",
       "      <td>327.006012</td>\n",
       "      <td>265.125000</td>\n",
       "      <td>67682351.0</td>\n",
       "    </tr>\n",
       "    <tr>\n",
       "      <th>4</th>\n",
       "      <td>2009-08-07</td>\n",
       "      <td>319.200012</td>\n",
       "      <td>339.891998</td>\n",
       "      <td>312.087006</td>\n",
       "      <td>337.166992</td>\n",
       "      <td>273.363251</td>\n",
       "      <td>71910369.0</td>\n",
       "    </tr>\n",
       "  </tbody>\n",
       "</table>\n",
       "</div>"
      ],
      "text/plain": [
       "         Date        Open        High         Low       Close   Adj Close  \\\n",
       "0  2009-08-03  276.061005  310.654999  273.890015  297.954010  241.570679   \n",
       "1  2009-08-04  300.263000  306.683014  297.815002  303.450012  246.026733   \n",
       "2  2009-08-05  303.911987  320.954987  303.080994  310.839996  252.018234   \n",
       "3  2009-08-06  316.937012  335.041992  315.828003  327.006012  265.125000   \n",
       "4  2009-08-07  319.200012  339.891998  312.087006  337.166992  273.363251   \n",
       "\n",
       "        Volume  \n",
       "0  139239547.0  \n",
       "1          0.0  \n",
       "2   70633149.0  \n",
       "3   67682351.0  \n",
       "4   71910369.0  "
      ]
     },
     "execution_count": 176,
     "metadata": {},
     "output_type": "execute_result"
    }
   ],
   "source": [
    "df.head()"
   ]
  },
  {
   "cell_type": "markdown",
   "metadata": {},
   "source": [
    "# Create training data set with only Open column"
   ]
  },
  {
   "cell_type": "code",
   "execution_count": 103,
   "metadata": {},
   "outputs": [],
   "source": [
    "training_set = df.iloc[:,1:2].values"
   ]
  },
  {
   "cell_type": "markdown",
   "metadata": {},
   "source": [
    "# Feature Scaling"
   ]
  },
  {
   "cell_type": "code",
   "execution_count": 104,
   "metadata": {},
   "outputs": [],
   "source": [
    "from sklearn.preprocessing import MinMaxScaler\n",
    "sc = MinMaxScaler(feature_range=(0,1))\n",
    "training_set_scaled = sc.fit_transform(training_set)"
   ]
  },
  {
   "cell_type": "code",
   "execution_count": 105,
   "metadata": {},
   "outputs": [
    {
     "data": {
      "text/plain": [
       "array([[0.64216878],\n",
       "       [0.74709422],\n",
       "       [0.76291405],\n",
       "       ...,\n",
       "       [0.24105278],\n",
       "       [0.23168836],\n",
       "       [0.220503  ]])"
      ]
     },
     "execution_count": 105,
     "metadata": {},
     "output_type": "execute_result"
    }
   ],
   "source": [
    "training_set_scaled"
   ]
  },
  {
   "cell_type": "markdown",
   "metadata": {},
   "source": [
    "# Creating data structure with 60 timestamp and 1 output"
   ]
  },
  {
   "cell_type": "code",
   "execution_count": 106,
   "metadata": {},
   "outputs": [],
   "source": [
    "X_train = []\n",
    "y_train = []\n",
    "\n",
    "for i in range(60, 2294):\n",
    "    X_train.append(training_set_scaled[i-60:i, 0])\n",
    "    y_train.append(training_set_scaled[i, 0])\n",
    "X_train, y_train = np.array(X_train), np.array(y_train)"
   ]
  },
  {
   "cell_type": "code",
   "execution_count": 178,
   "metadata": {},
   "outputs": [
    {
     "data": {
      "text/plain": [
       "array([[0.64216878],\n",
       "       [0.74709422],\n",
       "       [0.76291405],\n",
       "       [0.8193828 ],\n",
       "       [0.82919382],\n",
       "       [0.86944371],\n",
       "       [0.84701664],\n",
       "       [0.80837084],\n",
       "       [0.8730464 ],\n",
       "       [0.89467142],\n",
       "       [0.87104342],\n",
       "       [0.82699133],\n",
       "       [0.81557622],\n",
       "       [0.84701664],\n",
       "       [0.82258659],\n",
       "       [0.88706277],\n",
       "       [0.86303599],\n",
       "       [0.89407314],\n",
       "       [0.89307158],\n",
       "       [0.94713408],\n",
       "       [0.96315343],\n",
       "       [0.89707754],\n",
       "       [0.87424734],\n",
       "       [0.86744072],\n",
       "       [0.88706277],\n",
       "       [0.89507456],\n",
       "       [0.86703746],\n",
       "       [0.91910134],\n",
       "       [0.93071595],\n",
       "       [0.90708795],\n",
       "       [0.93912665],\n",
       "       [0.93512069],\n",
       "       [0.99098678],\n",
       "       [0.955146  ],\n",
       "       [0.94954033],\n",
       "       [0.93892713],\n",
       "       [0.92530967],\n",
       "       [0.92550905],\n",
       "       [0.89907616],\n",
       "       [0.87544815],\n",
       "       [0.93512069],\n",
       "       [0.92150322],\n",
       "       [0.93431865],\n",
       "       [0.89307158],\n",
       "       [0.88686338],\n",
       "       [0.90107914],\n",
       "       [0.9165002 ],\n",
       "       [0.94533498],\n",
       "       [0.94313248],\n",
       "       [0.95915183],\n",
       "       [0.93512069],\n",
       "       [0.91609693],\n",
       "       [1.        ],\n",
       "       [0.98718457],\n",
       "       [0.94373077],\n",
       "       [0.92711326],\n",
       "       [0.90728747],\n",
       "       [0.87925473],\n",
       "       [0.91489599],\n",
       "       [0.88706277]])"
      ]
     },
     "execution_count": 178,
     "metadata": {},
     "output_type": "execute_result"
    }
   ],
   "source": [
    "## X_train contain 60 previous stock price\n",
    "X_train[0]"
   ]
  },
  {
   "cell_type": "code",
   "execution_count": 179,
   "metadata": {},
   "outputs": [
    {
     "data": {
      "text/plain": [
       "array([0.84801806, 0.81297509, 0.71285315, ..., 0.24105278, 0.23168836,\n",
       "       0.220503  ])"
      ]
     },
     "execution_count": 179,
     "metadata": {},
     "output_type": "execute_result"
    }
   ],
   "source": [
    "y_train"
   ]
  },
  {
   "cell_type": "markdown",
   "metadata": {},
   "source": [
    "# Reshaping"
   ]
  },
  {
   "cell_type": "code",
   "execution_count": 108,
   "metadata": {},
   "outputs": [],
   "source": [
    "X_train = np.reshape(X_train, (X_train.shape[0], X_train.shape[1], 1))"
   ]
  },
  {
   "cell_type": "markdown",
   "metadata": {},
   "source": [
    "# Part - 2 - Build RNN\n",
    "\n",
    "# Import Keras libraries and packages"
   ]
  },
  {
   "cell_type": "code",
   "execution_count": 113,
   "metadata": {},
   "outputs": [],
   "source": [
    "from keras.models import Sequential\n",
    "from keras.layers import Dense\n",
    "from keras.layers import LSTM\n",
    "from keras.layers import Dropoutregressor.add(LSTM(units=50, return_sequences=True, input_shape=(X_train.shape[1],1)))\n",
    "regressor.add(Dropout(.2))"
   ]
  },
  {
   "cell_type": "code",
   "execution_count": 114,
   "metadata": {},
   "outputs": [],
   "source": [
    "# Initialize RNN\n",
    "regressor = Sequential()"
   ]
  },
  {
   "cell_type": "markdown",
   "metadata": {},
   "source": [
    "# Adding first LSTM layer and some dropout regularization"
   ]
  },
  {
   "cell_type": "code",
   "execution_count": 115,
   "metadata": {},
   "outputs": [],
   "source": [
    "regressor.add(LSTM(units=50, return_sequences=True, input_shape=(X_train.shape[1],1)))\n",
    "regressor.add(Dropout(.2))"
   ]
  },
  {
   "cell_type": "markdown",
   "metadata": {},
   "source": [
    "# Adding Second LSTM layer and some dropout regularization"
   ]
  },
  {
   "cell_type": "code",
   "execution_count": 116,
   "metadata": {},
   "outputs": [],
   "source": [
    "regressor.add(LSTM(units=50, return_sequences=True))\n",
    "regressor.add(Dropout(.2))"
   ]
  },
  {
   "cell_type": "markdown",
   "metadata": {},
   "source": [
    "# Adding Third LSTM layer and some dropout regularization"
   ]
  },
  {
   "cell_type": "code",
   "execution_count": 117,
   "metadata": {},
   "outputs": [],
   "source": [
    "regressor.add(LSTM(units=50, return_sequences=True))\n",
    "regressor.add(Dropout(.2))"
   ]
  },
  {
   "cell_type": "markdown",
   "metadata": {},
   "source": [
    "# Adding Fourth LSTM layer and some dropout regularization"
   ]
  },
  {
   "cell_type": "code",
   "execution_count": 118,
   "metadata": {},
   "outputs": [],
   "source": [
    "regressor.add(LSTM(units=50))\n",
    "regressor.add(Dropout(.2))"
   ]
  },
  {
   "cell_type": "markdown",
   "metadata": {},
   "source": [
    "# Adding output layer"
   ]
  },
  {
   "cell_type": "code",
   "execution_count": 119,
   "metadata": {},
   "outputs": [],
   "source": [
    "regressor.add(Dense(units=1))"
   ]
  },
  {
   "cell_type": "markdown",
   "metadata": {},
   "source": [
    "# Compiling the RNN"
   ]
  },
  {
   "cell_type": "code",
   "execution_count": 120,
   "metadata": {},
   "outputs": [],
   "source": [
    "regressor.compile(optimizer='adam', loss='mean_squared_error')"
   ]
  },
  {
   "cell_type": "markdown",
   "metadata": {},
   "source": [
    "# Fitting the RNN with Training data set"
   ]
  },
  {
   "cell_type": "code",
   "execution_count": 121,
   "metadata": {},
   "outputs": [
    {
     "name": "stdout",
     "output_type": "stream",
     "text": [
      "Epoch 1/100\n",
      "2234/2234 [==============================] - 20s 9ms/step - loss: 0.0225\n",
      "Epoch 2/100\n",
      "2234/2234 [==============================] - 13s 6ms/step - loss: 0.0070\n",
      "Epoch 3/100\n",
      "2234/2234 [==============================] - 9s 4ms/step - loss: 0.0055\n",
      "Epoch 4/100\n",
      "2234/2234 [==============================] - 8s 4ms/step - loss: 0.0048\n",
      "Epoch 5/100\n",
      "2234/2234 [==============================] - 8s 4ms/step - loss: 0.0047\n",
      "Epoch 6/100\n",
      "2234/2234 [==============================] - 8s 3ms/step - loss: 0.0045\n",
      "Epoch 7/100\n",
      "2234/2234 [==============================] - 8s 4ms/step - loss: 0.0043\n",
      "Epoch 8/100\n",
      "2234/2234 [==============================] - 8s 3ms/step - loss: 0.0040\n",
      "Epoch 9/100\n",
      "2234/2234 [==============================] - 8s 4ms/step - loss: 0.0039\n",
      "Epoch 10/100\n",
      "2234/2234 [==============================] - 8s 3ms/step - loss: 0.0038\n",
      "Epoch 11/100\n",
      "2234/2234 [==============================] - 8s 4ms/step - loss: 0.0040\n",
      "Epoch 12/100\n",
      "2234/2234 [==============================] - 8s 4ms/step - loss: 0.0033\n",
      "Epoch 13/100\n",
      "2234/2234 [==============================] - 8s 4ms/step - loss: 0.0035\n",
      "Epoch 14/100\n",
      "2234/2234 [==============================] - 8s 4ms/step - loss: 0.0032\n",
      "Epoch 15/100\n",
      "2234/2234 [==============================] - 8s 4ms/step - loss: 0.0033\n",
      "Epoch 16/100\n",
      "2234/2234 [==============================] - 8s 4ms/step - loss: 0.0030\n",
      "Epoch 17/100\n",
      "2234/2234 [==============================] - 8s 4ms/step - loss: 0.0030\n",
      "Epoch 18/100\n",
      "2234/2234 [==============================] - 8s 4ms/step - loss: 0.0028\n",
      "Epoch 19/100\n",
      "2234/2234 [==============================] - 8s 4ms/step - loss: 0.0028\n",
      "Epoch 20/100\n",
      "2234/2234 [==============================] - 8s 4ms/step - loss: 0.0027\n",
      "Epoch 21/100\n",
      "2234/2234 [==============================] - 8s 4ms/step - loss: 0.0023\n",
      "Epoch 22/100\n",
      "2234/2234 [==============================] - 8s 4ms/step - loss: 0.0024\n",
      "Epoch 23/100\n",
      "2234/2234 [==============================] - 8s 4ms/step - loss: 0.0024\n",
      "Epoch 24/100\n",
      "2234/2234 [==============================] - 8s 4ms/step - loss: 0.0022\n",
      "Epoch 25/100\n",
      "2234/2234 [==============================] - 8s 4ms/step - loss: 0.0021\n",
      "Epoch 26/100\n",
      "2234/2234 [==============================] - 8s 4ms/step - loss: 0.0021\n",
      "Epoch 27/100\n",
      "2234/2234 [==============================] - 9s 4ms/step - loss: 0.0021\n",
      "Epoch 28/100\n",
      "2234/2234 [==============================] - 8s 4ms/step - loss: 0.0019\n",
      "Epoch 29/100\n",
      "2234/2234 [==============================] - 8s 4ms/step - loss: 0.0021\n",
      "Epoch 30/100\n",
      "2234/2234 [==============================] - 8s 4ms/step - loss: 0.0019\n",
      "Epoch 31/100\n",
      "2234/2234 [==============================] - 8s 4ms/step - loss: 0.0018\n",
      "Epoch 32/100\n",
      "2234/2234 [==============================] - 8s 4ms/step - loss: 0.0018\n",
      "Epoch 33/100\n",
      "2234/2234 [==============================] - 8s 4ms/step - loss: 0.0018\n",
      "Epoch 34/100\n",
      "2234/2234 [==============================] - 8s 4ms/step - loss: 0.0018\n",
      "Epoch 35/100\n",
      "2234/2234 [==============================] - 9s 4ms/step - loss: 0.0019\n",
      "Epoch 36/100\n",
      "2234/2234 [==============================] - 9s 4ms/step - loss: 0.0017\n",
      "Epoch 37/100\n",
      "2234/2234 [==============================] - 9s 4ms/step - loss: 0.0016\n",
      "Epoch 38/100\n",
      "2234/2234 [==============================] - 8s 4ms/step - loss: 0.0015\n",
      "Epoch 39/100\n",
      "2234/2234 [==============================] - 8s 4ms/step - loss: 0.0015\n",
      "Epoch 40/100\n",
      "2234/2234 [==============================] - 9s 4ms/step - loss: 0.0015\n",
      "Epoch 41/100\n",
      "2234/2234 [==============================] - 8s 4ms/step - loss: 0.0015\n",
      "Epoch 42/100\n",
      "2234/2234 [==============================] - 9s 4ms/step - loss: 0.0014\n",
      "Epoch 43/100\n",
      "2234/2234 [==============================] - 8s 4ms/step - loss: 0.0015\n",
      "Epoch 44/100\n",
      "2234/2234 [==============================] - 9s 4ms/step - loss: 0.0015\n",
      "Epoch 45/100\n",
      "2234/2234 [==============================] - 8s 4ms/step - loss: 0.0014\n",
      "Epoch 46/100\n",
      "2234/2234 [==============================] - 9s 4ms/step - loss: 0.0014\n",
      "Epoch 47/100\n",
      "2234/2234 [==============================] - 8s 4ms/step - loss: 0.0014\n",
      "Epoch 48/100\n",
      "2234/2234 [==============================] - 9s 4ms/step - loss: 0.0014\n",
      "Epoch 49/100\n",
      "2234/2234 [==============================] - 8s 4ms/step - loss: 0.0012\n",
      "Epoch 50/100\n",
      "2234/2234 [==============================] - 9s 4ms/step - loss: 0.0012\n",
      "Epoch 51/100\n",
      "2234/2234 [==============================] - 9s 4ms/step - loss: 0.0012\n",
      "Epoch 52/100\n",
      "2234/2234 [==============================] - 9s 4ms/step - loss: 0.0013\n",
      "Epoch 53/100\n",
      "2234/2234 [==============================] - 9s 4ms/step - loss: 0.0012\n",
      "Epoch 54/100\n",
      "2234/2234 [==============================] - 8s 4ms/step - loss: 0.0012\n",
      "Epoch 55/100\n",
      "2234/2234 [==============================] - 9s 4ms/step - loss: 0.0011\n",
      "Epoch 56/100\n",
      "2234/2234 [==============================] - 8s 4ms/step - loss: 0.0012\n",
      "Epoch 57/100\n",
      "2234/2234 [==============================] - 9s 4ms/step - loss: 0.0012\n",
      "Epoch 58/100\n",
      "2234/2234 [==============================] - 9s 4ms/step - loss: 0.0012\n",
      "Epoch 59/100\n",
      "2234/2234 [==============================] - 9s 4ms/step - loss: 0.0012\n",
      "Epoch 60/100\n",
      "2234/2234 [==============================] - 8s 4ms/step - loss: 0.0011\n",
      "Epoch 61/100\n",
      "2234/2234 [==============================] - 9s 4ms/step - loss: 0.0012\n",
      "Epoch 62/100\n",
      "2234/2234 [==============================] - 8s 4ms/step - loss: 0.0011\n",
      "Epoch 63/100\n",
      "2234/2234 [==============================] - 9s 4ms/step - loss: 0.0012\n",
      "Epoch 64/100\n",
      "2234/2234 [==============================] - 8s 4ms/step - loss: 0.0011\n",
      "Epoch 65/100\n",
      "2234/2234 [==============================] - 9s 4ms/step - loss: 0.0011\n",
      "Epoch 66/100\n",
      "2234/2234 [==============================] - 9s 4ms/step - loss: 0.0011\n",
      "Epoch 67/100\n",
      "2234/2234 [==============================] - 9s 4ms/step - loss: 0.0011\n",
      "Epoch 68/100\n",
      "2234/2234 [==============================] - 9s 4ms/step - loss: 0.0012\n",
      "Epoch 69/100\n",
      "2234/2234 [==============================] - 10s 4ms/step - loss: 0.0011\n",
      "Epoch 70/100\n",
      "2234/2234 [==============================] - 9s 4ms/step - loss: 0.0011\n",
      "Epoch 71/100\n",
      "2234/2234 [==============================] - 9s 4ms/step - loss: 0.0011\n",
      "Epoch 72/100\n",
      "2234/2234 [==============================] - 9s 4ms/step - loss: 0.0011\n",
      "Epoch 73/100\n",
      "2234/2234 [==============================] - 9s 4ms/step - loss: 0.0011\n",
      "Epoch 74/100\n",
      "2234/2234 [==============================] - 9s 4ms/step - loss: 0.0010\n",
      "Epoch 75/100\n",
      "2234/2234 [==============================] - 9s 4ms/step - loss: 0.0010\n",
      "Epoch 76/100\n",
      "2234/2234 [==============================] - 9s 4ms/step - loss: 0.0011\n",
      "Epoch 77/100\n",
      "2234/2234 [==============================] - 9s 4ms/step - loss: 0.0011\n",
      "Epoch 78/100\n",
      "2234/2234 [==============================] - 9s 4ms/step - loss: 0.0011\n",
      "Epoch 79/100\n",
      "2234/2234 [==============================] - 9s 4ms/step - loss: 0.0011\n",
      "Epoch 80/100\n",
      "2234/2234 [==============================] - 9s 4ms/step - loss: 0.0011\n",
      "Epoch 81/100\n",
      "2234/2234 [==============================] - 10s 4ms/step - loss: 0.0010\n",
      "Epoch 82/100\n",
      "2234/2234 [==============================] - 9s 4ms/step - loss: 0.0011\n",
      "Epoch 83/100\n",
      "2234/2234 [==============================] - 9s 4ms/step - loss: 0.0010\n",
      "Epoch 84/100\n",
      "2234/2234 [==============================] - 9s 4ms/step - loss: 0.0011\n",
      "Epoch 85/100\n",
      "2234/2234 [==============================] - 9s 4ms/step - loss: 0.0010\n",
      "Epoch 86/100\n",
      "2234/2234 [==============================] - 9s 4ms/step - loss: 0.0011\n",
      "Epoch 87/100\n",
      "2234/2234 [==============================] - 9s 4ms/step - loss: 0.0011\n",
      "Epoch 88/100\n",
      "2234/2234 [==============================] - 9s 4ms/step - loss: 0.0011\n",
      "Epoch 89/100\n",
      "2234/2234 [==============================] - 9s 4ms/step - loss: 0.0011\n",
      "Epoch 90/100\n",
      "2234/2234 [==============================] - 9s 4ms/step - loss: 0.0010\n",
      "Epoch 91/100\n",
      "2234/2234 [==============================] - 9s 4ms/step - loss: 0.0010\n",
      "Epoch 92/100\n",
      "2234/2234 [==============================] - 9s 4ms/step - loss: 0.0010\n",
      "Epoch 93/100\n",
      "2234/2234 [==============================] - 9s 4ms/step - loss: 9.9925e-04\n",
      "Epoch 94/100\n",
      "2234/2234 [==============================] - 9s 4ms/step - loss: 0.0010\n",
      "Epoch 95/100\n",
      "2234/2234 [==============================] - 9s 4ms/step - loss: 0.0010\n",
      "Epoch 96/100\n",
      "2234/2234 [==============================] - 10s 4ms/step - loss: 0.0010\n",
      "Epoch 97/100\n",
      "2234/2234 [==============================] - 8s 4ms/step - loss: 0.0010\n",
      "Epoch 98/100\n",
      "2234/2234 [==============================] - 8s 4ms/step - loss: 0.0010\n",
      "Epoch 99/100\n",
      "2234/2234 [==============================] - 8s 3ms/step - loss: 9.7694e-04\n",
      "Epoch 100/100\n",
      "2234/2234 [==============================] - 8s 4ms/step - loss: 0.0010\n"
     ]
    },
    {
     "data": {
      "text/plain": [
       "<keras.callbacks.History at 0x21a199aec18>"
      ]
     },
     "execution_count": 121,
     "metadata": {},
     "output_type": "execute_result"
    }
   ],
   "source": [
    "regressor.fit(X_train, y_train, epochs=100, batch_size=32)"
   ]
  },
  {
   "cell_type": "markdown",
   "metadata": {},
   "source": [
    "# Part - 3 - Making prediction and visualization\n",
    "\n",
    "# Getitng real stock price of Barclays Bank in 2018"
   ]
  },
  {
   "cell_type": "code",
   "execution_count": 122,
   "metadata": {},
   "outputs": [],
   "source": [
    "test_data = pd.read_csv('BARC.L (2).csv')\n",
    "real_stock_price = test_data.iloc[:, 1:2].values"
   ]
  },
  {
   "cell_type": "markdown",
   "metadata": {},
   "source": [
    "# Getting the predicted stock price of 2018"
   ]
  },
  {
   "cell_type": "code",
   "execution_count": 140,
   "metadata": {},
   "outputs": [],
   "source": [
    "dataset_total = pd.concat((df['Open'], test_data['Open']), axis=0)\n",
    "inputs = dataset_total[len(dataset_total) - len(test_data) - 60:].values\n",
    "inputs = inputs.reshape(-1,1)\n",
    "inputs = sc.transform(inputs)"
   ]
  },
  {
   "cell_type": "code",
   "execution_count": 145,
   "metadata": {},
   "outputs": [],
   "source": [
    "X_test = []\n",
    "\n",
    "for i in range(60,80):\n",
    "    X_test.append(inputs[i-60:i, 0])\n",
    "X_test = np.array(X_test)\n",
    "X_test = np.reshape(X_test, (X_test.shape[0], X_test.shape[1], 1))\n",
    "predicted_stock_price = regressor.predict(X_test)\n",
    "predicted_stock_price = sc.inverse_transform(predicted_stock_price)"
   ]
  },
  {
   "cell_type": "markdown",
   "metadata": {},
   "source": [
    "# Visualize the result"
   ]
  },
  {
   "cell_type": "code",
   "execution_count": 181,
   "metadata": {},
   "outputs": [
    {
     "data": {
      "text/plain": [
       "<matplotlib.legend.Legend at 0x21a20e835c0>"
      ]
     },
     "execution_count": 181,
     "metadata": {},
     "output_type": "execute_result"
    },
    {
     "data": {
      "image/png": "[encoded data removed]",
      "text/plain": [
       "<Figure size 432x288 with 1 Axes>"
      ]
     },
     "metadata": {},
     "output_type": "display_data"
    }
   ],
   "source": [
    "plt.plot(real_stock_price, color='red', label = 'Real Stock Price')\n",
    "plt.plot(predicted_stock_price,color='blue', label = 'Predicted Stock Price')\n",
    "plt.title('Barclays Stock Price Prediction')\n",
    "plt.xlabel('Time')\n",
    "plt.ylabel('Barclays Stock Price')\n",
    "plt.legend()"
   ]
  },
  {
   "cell_type": "code",
   "execution_count": null,
   "metadata": {},
   "outputs": [],
   "source": []
  }
 ],
 "metadata": {
  "kernelspec": {
   "display_name": "Python 3",
   "language": "python",
   "name": "python3"
  },
  "language_info": {
   "codemirror_mode": {
    "name": "ipython",
    "version": 3
   },
   "file_extension": ".py",
   "mimetype": "text/x-python",
   "name": "python",
   "nbconvert_exporter": "python",
   "pygments_lexer": "ipython3",
   "version": "3.6.5"
  }
 },
 "nbformat": 4,
 "nbformat_minor": 2
}
